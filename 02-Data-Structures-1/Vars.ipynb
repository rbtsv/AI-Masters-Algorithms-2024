{
 "cells": [
  {
   "cell_type": "code",
   "execution_count": 1,
   "id": "b19238ba",
   "metadata": {},
   "outputs": [
    {
     "name": "stdout",
     "output_type": "stream",
     "text": [
      "a=2, b=1\n"
     ]
    }
   ],
   "source": [
    "a = 1\n",
    "b = a\n",
    "a += 1\n",
    "print(f\"{a=}, {b=}\")"
   ]
  },
  {
   "cell_type": "code",
   "execution_count": 4,
   "id": "7e36c526",
   "metadata": {},
   "outputs": [
    {
     "name": "stdout",
     "output_type": "stream",
     "text": [
      "a is b =True\n",
      "a=[1, 1], b=[1]\n"
     ]
    }
   ],
   "source": [
    "a = [1]\n",
    "b = a\n",
    "print(f\"{a is b =}\")\n",
    "a = a + [1]\n",
    "print(f\"{a=}, {b=}\")"
   ]
  },
  {
   "cell_type": "code",
   "execution_count": 9,
   "id": "ba2a1389",
   "metadata": {},
   "outputs": [
    {
     "name": "stdout",
     "output_type": "stream",
     "text": [
      "a=[1, 1], b=[1, 1]\n"
     ]
    }
   ],
   "source": [
    "a = [1]\n",
    "b = a\n",
    "a += [1] # (!=) a = a + [1]\n",
    "print(f\"{a=}, {b=}\")"
   ]
  },
  {
   "cell_type": "code",
   "execution_count": 10,
   "id": "36c97986",
   "metadata": {},
   "outputs": [
    {
     "name": "stdout",
     "output_type": "stream",
     "text": [
      "a=[1, 1, 1, 1], b=[1, 1, 1, 1]\n"
     ]
    }
   ],
   "source": [
    "a += b\n",
    "print(f\"{a=}, {b=}\")"
   ]
  },
  {
   "cell_type": "code",
   "execution_count": 8,
   "id": "7d55109e",
   "metadata": {},
   "outputs": [
    {
     "name": "stdout",
     "output_type": "stream",
     "text": [
      "a=[1, 1, 1, 1, 1, 1, 1, 1], b=[1, 1, 1, 1, 1, 1, 1, 1]\n"
     ]
    }
   ],
   "source": [
    "#a += a\n",
    "#print(f\"{a=}, {b=}\")"
   ]
  },
  {
   "cell_type": "code",
   "execution_count": 11,
   "id": "91d1bb34",
   "metadata": {},
   "outputs": [
    {
     "name": "stdout",
     "output_type": "stream",
     "text": [
      "a=[1, 1, 1, 1, [...]], b=[1, 1, 1, 1, [...]]\n"
     ]
    }
   ],
   "source": [
    "a += [b]\n",
    "print(f\"{a=}, {b=}\")"
   ]
  },
  {
   "cell_type": "code",
   "execution_count": 12,
   "id": "314675e5",
   "metadata": {},
   "outputs": [
    {
     "data": {
      "text/plain": [
       "[1, 1, 1, 1, [...]]"
      ]
     },
     "execution_count": 12,
     "metadata": {},
     "output_type": "execute_result"
    }
   ],
   "source": [
    "a[4]"
   ]
  },
  {
   "cell_type": "code",
   "execution_count": 13,
   "id": "f2e58a53",
   "metadata": {},
   "outputs": [],
   "source": [
    "a[4][4][4][4][0] = 2"
   ]
  },
  {
   "cell_type": "code",
   "execution_count": 14,
   "id": "fbb55bc4",
   "metadata": {},
   "outputs": [
    {
     "data": {
      "text/plain": [
       "[2, 1, 1, 1, [...]]"
      ]
     },
     "execution_count": 14,
     "metadata": {},
     "output_type": "execute_result"
    }
   ],
   "source": [
    "a"
   ]
  },
  {
   "cell_type": "code",
   "execution_count": 15,
   "id": "b1f0e3ff",
   "metadata": {},
   "outputs": [
    {
     "name": "stdout",
     "output_type": "stream",
     "text": [
      "a=[1, 1], b=[1]\n"
     ]
    }
   ],
   "source": [
    "a = [1]\n",
    "b = a.copy()\n",
    "a += [1]\n",
    "print(f\"{a=}, {b=}\")"
   ]
  },
  {
   "cell_type": "code",
   "execution_count": 16,
   "id": "5453857a",
   "metadata": {},
   "outputs": [],
   "source": [
    "h = [10,1,13,13,17]"
   ]
  },
  {
   "cell_type": "code",
   "execution_count": 17,
   "id": "aa82d75f",
   "metadata": {},
   "outputs": [],
   "source": [
    "import heapq"
   ]
  },
  {
   "cell_type": "code",
   "execution_count": 18,
   "id": "f699ff8e",
   "metadata": {},
   "outputs": [
    {
     "data": {
      "text/plain": [
       "[1, 10, 13, 13, 17]"
      ]
     },
     "execution_count": 18,
     "metadata": {},
     "output_type": "execute_result"
    }
   ],
   "source": [
    "heapq.heapify(h)\n",
    "h"
   ]
  },
  {
   "cell_type": "code",
   "execution_count": 19,
   "id": "7382e8d6",
   "metadata": {},
   "outputs": [
    {
     "data": {
      "text/plain": [
       "[0, 10, 1, 13, 17, 13]"
      ]
     },
     "execution_count": 19,
     "metadata": {},
     "output_type": "execute_result"
    }
   ],
   "source": [
    "heapq.heappush(h, 0)\n",
    "h"
   ]
  },
  {
   "cell_type": "code",
   "execution_count": 20,
   "id": "83db4fb4",
   "metadata": {},
   "outputs": [
    {
     "data": {
      "text/plain": [
       "[17, 13, 13, 0, 10, 1]"
      ]
     },
     "execution_count": 20,
     "metadata": {},
     "output_type": "execute_result"
    }
   ],
   "source": [
    "heapq._heapify_max(h)\n",
    "h"
   ]
  },
  {
   "cell_type": "code",
   "execution_count": 21,
   "id": "647424e8",
   "metadata": {},
   "outputs": [
    {
     "ename": "AttributeError",
     "evalue": "module 'heapq' has no attribute '_heappush_max'",
     "output_type": "error",
     "traceback": [
      "\u001b[0;31m---------------------------------------------------------------------------\u001b[0m",
      "\u001b[0;31mAttributeError\u001b[0m                            Traceback (most recent call last)",
      "Input \u001b[0;32mIn [21]\u001b[0m, in \u001b[0;36m<cell line: 1>\u001b[0;34m()\u001b[0m\n\u001b[0;32m----> 1\u001b[0m \u001b[43mheapq\u001b[49m\u001b[38;5;241;43m.\u001b[39;49m\u001b[43m_heappush_max\u001b[49m(h, \u001b[38;5;241m18\u001b[39m)\n\u001b[1;32m      2\u001b[0m h\n",
      "\u001b[0;31mAttributeError\u001b[0m: module 'heapq' has no attribute '_heappush_max'"
     ]
    }
   ],
   "source": [
    "heapq._heappush_max(h, 18)\n",
    "h"
   ]
  },
  {
   "cell_type": "code",
   "execution_count": 35,
   "id": "b1949175",
   "metadata": {},
   "outputs": [],
   "source": [
    "class myInt:\n",
    "    def __init__(self, x):\n",
    "        self.x = x\n",
    "    \n",
    "    def __lt__(self, other):\n",
    "        return self.x > other.x\n",
    "    \n",
    "    def __repr__(self):\n",
    "        return repr(self.x)"
   ]
  },
  {
   "cell_type": "code",
   "execution_count": 36,
   "id": "89499417",
   "metadata": {},
   "outputs": [
    {
     "data": {
      "text/plain": [
       "(False, True)"
      ]
     },
     "execution_count": 36,
     "metadata": {},
     "output_type": "execute_result"
    }
   ],
   "source": [
    "myInt(3) < myInt(5), myInt(5) < myInt(3)"
   ]
  },
  {
   "cell_type": "code",
   "execution_count": 37,
   "id": "85e1edd3",
   "metadata": {},
   "outputs": [
    {
     "data": {
      "text/plain": [
       "5"
      ]
     },
     "execution_count": 37,
     "metadata": {},
     "output_type": "execute_result"
    }
   ],
   "source": [
    "myInt(5)"
   ]
  },
  {
   "cell_type": "code",
   "execution_count": 38,
   "id": "af183406",
   "metadata": {},
   "outputs": [],
   "source": [
    "h = [10,1,13,13,17]"
   ]
  },
  {
   "cell_type": "code",
   "execution_count": 39,
   "id": "7d07f42e",
   "metadata": {},
   "outputs": [],
   "source": [
    "hh = [myInt(x) for x in h]"
   ]
  },
  {
   "cell_type": "code",
   "execution_count": 40,
   "id": "c26fcf19",
   "metadata": {},
   "outputs": [],
   "source": [
    "heapq.heapify(hh)"
   ]
  },
  {
   "cell_type": "code",
   "execution_count": 41,
   "id": "a0c202cd",
   "metadata": {},
   "outputs": [
    {
     "data": {
      "text/plain": [
       "[17, 13, 13, 10, 1]"
      ]
     },
     "execution_count": 41,
     "metadata": {},
     "output_type": "execute_result"
    }
   ],
   "source": [
    "hh"
   ]
  },
  {
   "cell_type": "code",
   "execution_count": 42,
   "id": "2f0d3165",
   "metadata": {},
   "outputs": [],
   "source": [
    "d = {}\n",
    "d[\"123\"] = 1"
   ]
  },
  {
   "cell_type": "code",
   "execution_count": 43,
   "id": "a763658a",
   "metadata": {},
   "outputs": [
    {
     "data": {
      "text/plain": [
       "1"
      ]
     },
     "execution_count": 43,
     "metadata": {},
     "output_type": "execute_result"
    }
   ],
   "source": [
    "d[\"123\"]"
   ]
  },
  {
   "cell_type": "code",
   "execution_count": null,
   "id": "f9e7c623",
   "metadata": {},
   "outputs": [],
   "source": []
  }
 ],
 "metadata": {
  "kernelspec": {
   "display_name": "Python 3 (ipykernel)",
   "language": "python",
   "name": "python3"
  },
  "language_info": {
   "codemirror_mode": {
    "name": "ipython",
    "version": 3
   },
   "file_extension": ".py",
   "mimetype": "text/x-python",
   "name": "python",
   "nbconvert_exporter": "python",
   "pygments_lexer": "ipython3",
   "version": "3.9.12"
  }
 },
 "nbformat": 4,
 "nbformat_minor": 5
}
