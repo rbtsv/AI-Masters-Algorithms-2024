{
 "cells": [
  {
   "cell_type": "code",
   "execution_count": 1,
   "id": "441efd95",
   "metadata": {},
   "outputs": [],
   "source": [
    "%load_ext memory_profiler \n",
    "# %memit\n",
    "\n",
    "import math\n",
    "\n",
    "max1_tests_path = \"../1-HelloWorld/1-2-max/tests\"\n",
    "cont_lis_path, cont_lis_tst = \"../1-HelloWorld/cont_lis/\", \"t4\"\n",
    "\n",
    "#print_cf_style_input(\"../1-HelloWorld/1-2-max\", test_num = \"tm2\")\n",
    "#input = create_input(\"../1-HelloWorld/1-2-max\", test_num = \"tm2\")\n",
    "\n",
    "#cont_lis_path, cont_lis_tst = \"../1-HelloWorld/cont_lis/\", \"t1\"\n",
    "#print_cf_style_input(cont_lis_path, cont_lis_tst)\n",
    "#input = create_input(cont_lis_path, cont_lis_tst)\n",
    "\n",
    "\n",
    "\n",
    "def create_input(tests_path=max1_tests_path, test_num = \"01\"):\n",
    "    test_file = open(f\"{tests_path}/{test_num}\", \"r\")\n",
    "    return test_file.readline\n",
    "\n",
    "input = create_input()\n",
    "\n",
    "def read_int():\n",
    "    return int(input())\n",
    "\n",
    "def print_cf_style_input(tests_path=max1_tests_path, test_num = \"01\"):\n",
    "    test_file = open(f\"{tests_path}/{test_num}\", \"r\")\n",
    "    print(\"входные данные:\")\n",
    "    print(test_file.read())\n",
    "    print(\"выходные данные:\\n\")"
   ]
  },
  {
   "cell_type": "code",
   "execution_count": 2,
   "id": "27148856",
   "metadata": {},
   "outputs": [],
   "source": [
    "#Preambula for Codeforces\n",
    "\n",
    "import sys\n",
    "input = sys.stdin.buffer.readline\n",
    "\n",
    "def read_int():\n",
    "    return int(input())\n"
   ]
  },
  {
   "cell_type": "code",
   "execution_count": 19,
   "id": "8d6bc52d",
   "metadata": {},
   "outputs": [],
   "source": [
    "n = 10**6\n",
    "max_a = 10**7"
   ]
  },
  {
   "cell_type": "code",
   "execution_count": 6,
   "id": "6c775d42",
   "metadata": {},
   "outputs": [
    {
     "data": {
      "text/plain": [
       "True"
      ]
     },
     "execution_count": 6,
     "metadata": {},
     "output_type": "execute_result"
    }
   ],
   "source": [
    "(2**8)**4 > max_a"
   ]
  },
  {
   "cell_type": "code",
   "execution_count": 7,
   "id": "11a1f3f1",
   "metadata": {},
   "outputs": [
    {
     "data": {
      "text/plain": [
       "3.814697265625"
      ]
     },
     "execution_count": 7,
     "metadata": {},
     "output_type": "execute_result"
    }
   ],
   "source": [
    "4*n / 1024 / 1024"
   ]
  },
  {
   "cell_type": "code",
   "execution_count": 20,
   "id": "1f25a0e6",
   "metadata": {},
   "outputs": [
    {
     "data": {
      "text/plain": [
       "0.01"
      ]
     },
     "execution_count": 20,
     "metadata": {},
     "output_type": "execute_result"
    }
   ],
   "source": [
    "t_const = 10**8\n",
    "n / t_const"
   ]
  },
  {
   "cell_type": "code",
   "execution_count": 22,
   "id": "38a6b506",
   "metadata": {},
   "outputs": [
    {
     "data": {
      "text/plain": [
       "10000.0"
      ]
     },
     "execution_count": 22,
     "metadata": {},
     "output_type": "execute_result"
    }
   ],
   "source": [
    "n**2 / t_const"
   ]
  },
  {
   "cell_type": "code",
   "execution_count": 23,
   "id": "fee57d77",
   "metadata": {},
   "outputs": [
    {
     "data": {
      "text/plain": [
       "0.19931568569324173"
      ]
     },
     "execution_count": 23,
     "metadata": {},
     "output_type": "execute_result"
    }
   ],
   "source": [
    "n*math.log2(n) / t_const"
   ]
  },
  {
   "cell_type": "code",
   "execution_count": null,
   "id": "1ccd5925",
   "metadata": {},
   "outputs": [],
   "source": []
  },
  {
   "cell_type": "code",
   "execution_count": null,
   "id": "5c355487",
   "metadata": {},
   "outputs": [],
   "source": []
  },
  {
   "cell_type": "code",
   "execution_count": 11,
   "id": "3910aba7",
   "metadata": {},
   "outputs": [
    {
     "name": "stdout",
     "output_type": "stream",
     "text": [
      "входные данные:\n",
      "10\n",
      "1\n",
      "3\n",
      "2\n",
      "7\n",
      "9\n",
      "4\n",
      "6\n",
      "5\n",
      "10\n",
      "8\n",
      "\n",
      "выходные данные:\n",
      "\n",
      "10\n"
     ]
    }
   ],
   "source": [
    "input = create_input()\n",
    "print_cf_style_input()\n",
    "n = read_int()\n",
    "a = [read_int() for _ in range(n)] # C0 * n \n",
    "# A[i][j] = 1 if a[i] >= a[j] else 0\n",
    "A = [[0]*n for _ in range(n)]\n",
    "for i in range(n):\n",
    "    for j in range(n):\n",
    "        A[i][j] = 1 if a[i] >= a[j] else 0\n",
    "        \n",
    "for i in range(n):\n",
    "    if A[i] == [1]*n:\n",
    "        print(a[i])\n",
    "        break"
   ]
  },
  {
   "cell_type": "code",
   "execution_count": 25,
   "id": "000f3c5a",
   "metadata": {},
   "outputs": [
    {
     "name": "stdout",
     "output_type": "stream",
     "text": [
      "n=10402\n",
      "999853\n",
      "CPU times: user 23.7 s, sys: 938 ms, total: 24.7 s\n",
      "Wall time: 28.1 s\n"
     ]
    }
   ],
   "source": [
    "%%time\n",
    "input = create_input(test_num = \"06\")\n",
    "#print_cf_style_input()\n",
    "n = read_int()\n",
    "print(f\"{n=}\")\n",
    "a = [read_int() for _ in range(n)] # C0 * n \n",
    "# A[i][j] = 1 if a[i] >= a[j] else 0\n",
    "A = [[0]*n for _ in range(n)]\n",
    "for i in range(n):\n",
    "    for j in range(n):\n",
    "        A[i][j] = 1 if a[i] >= a[j] else 0\n",
    "        \n",
    "for i in range(n):\n",
    "    if A[i] == [1]*n:\n",
    "        print(a[i])\n",
    "        break"
   ]
  },
  {
   "cell_type": "code",
   "execution_count": 26,
   "id": "d72a2254",
   "metadata": {},
   "outputs": [
    {
     "data": {
      "text/plain": [
       "8.65612832"
      ]
     },
     "execution_count": 26,
     "metadata": {},
     "output_type": "execute_result"
    }
   ],
   "source": [
    "n**2 / (t_const / 8)"
   ]
  },
  {
   "cell_type": "code",
   "execution_count": 29,
   "id": "f969019e",
   "metadata": {},
   "outputs": [
    {
     "name": "stdout",
     "output_type": "stream",
     "text": [
      "входные данные:\n",
      "10\n",
      "1\n",
      "3\n",
      "2\n",
      "7\n",
      "9\n",
      "4\n",
      "6\n",
      "5\n",
      "10\n",
      "8\n",
      "\n",
      "выходные данные:\n",
      "\n",
      "10\n"
     ]
    }
   ],
   "source": [
    "input = create_input()\n",
    "print_cf_style_input()\n",
    "n = read_int()\n",
    "# m = a_1; m = max(m, a_2); m = max(m, a_3); ...\n",
    "\n",
    "m = read_int()\n",
    "for _ in range(n-1):\n",
    "    m = max(m, read_int())\n",
    "\n",
    "print(m)\n"
   ]
  },
  {
   "cell_type": "code",
   "execution_count": 42,
   "id": "2a32ca75",
   "metadata": {},
   "outputs": [
    {
     "name": "stdout",
     "output_type": "stream",
     "text": [
      "n=10402\n",
      "CPU times: user 9.91 ms, sys: 1.34 ms, total: 11.3 ms\n",
      "Wall time: 11.4 ms\n"
     ]
    }
   ],
   "source": [
    "%%time\n",
    "input = create_input(test_num = \"06\")\n",
    "#print_cf_style_input()\n",
    "\n",
    "n = read_int()\n",
    "print(f\"{n=}\")\n",
    "m = read_int()\n",
    "for _ in range(n-1):\n",
    "    m = max(m, read_int())\n",
    "\n"
   ]
  },
  {
   "cell_type": "code",
   "execution_count": 44,
   "id": "49800ec1",
   "metadata": {},
   "outputs": [
    {
     "data": {
      "text/plain": [
       "0.00083216"
      ]
     },
     "execution_count": 44,
     "metadata": {},
     "output_type": "execute_result"
    }
   ],
   "source": [
    "n / t_const * 8"
   ]
  },
  {
   "cell_type": "code",
   "execution_count": 46,
   "id": "e5871f8f",
   "metadata": {},
   "outputs": [
    {
     "name": "stdout",
     "output_type": "stream",
     "text": [
      "n=992035\n",
      "CPU times: user 444 ms, sys: 13.7 ms, total: 457 ms\n",
      "Wall time: 491 ms\n"
     ]
    }
   ],
   "source": [
    "%%time\n",
    "input = create_input(test_num = \"09\")\n",
    "#print_cf_style_input()\n",
    "n = read_int()\n",
    "print(f\"{n=}\")\n",
    "\n",
    "m = read_int()\n",
    "for _ in range(n-1):\n",
    "    m = max(m, read_int())\n"
   ]
  },
  {
   "cell_type": "code",
   "execution_count": 48,
   "id": "0e6919ef",
   "metadata": {},
   "outputs": [
    {
     "data": {
      "text/plain": [
       "0.0793628"
      ]
     },
     "execution_count": 48,
     "metadata": {},
     "output_type": "execute_result"
    }
   ],
   "source": [
    "n / t_const * 8"
   ]
  },
  {
   "cell_type": "code",
   "execution_count": 51,
   "id": "7d4ca4f8",
   "metadata": {},
   "outputs": [
    {
     "name": "stdout",
     "output_type": "stream",
     "text": [
      "n=992035\n",
      "9999995\n",
      "CPU times: user 531 ms, sys: 28.7 ms, total: 560 ms\n",
      "Wall time: 625 ms\n"
     ]
    }
   ],
   "source": [
    "%%time\n",
    "input = create_input(test_num = \"09\")\n",
    "#print_cf_style_input()\n",
    "n = read_int()\n",
    "print(f\"{n=}\")\n",
    "print(sorted(read_int() for _ in range(n))[-1])\n"
   ]
  },
  {
   "cell_type": "code",
   "execution_count": null,
   "id": "3992a2f9",
   "metadata": {},
   "outputs": [],
   "source": [
    "print_cf_style_input(\"../1-HelloWorld/1-2-max\", test_num = \"tm2\")\n",
    "input = create_input(\"../1-HelloWorld/1-2-max\", test_num = \"tm2\")\n",
    "\n",
    "n = read_int()\n",
    "\n",
    "a, b = read_int(), read_int()\n",
    "m1, m2 = max(a,b), min(a,b)\n",
    "\n",
    "for _ in range(n-2): \n",
    "    a = read_int() \n",
    "    if a >= m1: # Wrong branch!\n",
    "        m1 = a\n",
    "        m2 = m1\n",
    "    else:\n",
    "        m2 = max(m2, a)\n"
   ]
  },
  {
   "cell_type": "code",
   "execution_count": 53,
   "id": "428d1a16",
   "metadata": {},
   "outputs": [
    {
     "name": "stdout",
     "output_type": "stream",
     "text": [
      "входные данные:\n",
      "4\n",
      "10\n",
      "15\n",
      "1\n",
      "15\n",
      "\n",
      "выходные данные:\n",
      "\n",
      "225\n"
     ]
    }
   ],
   "source": [
    "print_cf_style_input(\"../1-HelloWorld/1-2-max\", test_num = \"tm2\")\n",
    "input = create_input(\"../1-HelloWorld/1-2-max\", test_num = \"tm2\")\n",
    "\n",
    "n = read_int()\n",
    "\n",
    "a, b = read_int(), read_int()\n",
    "m1, m2 = max(a,b), min(a,b)\n",
    "\n",
    "for _ in range(n-2): \n",
    "    a = read_int() \n",
    "    if a >= m1: \n",
    "        m2 = m1\n",
    "        m1 = a\n",
    "    else:\n",
    "        m2 = max(m2, a)\n",
    "\n",
    "print(m2*m1)        "
   ]
  },
  {
   "cell_type": "code",
   "execution_count": 64,
   "id": "76b2f2c1",
   "metadata": {},
   "outputs": [
    {
     "name": "stdout",
     "output_type": "stream",
     "text": [
      "входные данные:\n",
      "4\n",
      "10\n",
      "15\n",
      "1\n",
      "15\n",
      "\n",
      "выходные данные:\n",
      "\n",
      "225\n"
     ]
    }
   ],
   "source": [
    "print_cf_style_input(\"../1-HelloWorld/1-2-max\", test_num = \"tm2\")\n",
    "input = create_input(\"../1-HelloWorld/1-2-max\", test_num = \"tm2\")\n",
    "\n",
    "n = read_int()\n",
    "\n",
    "# f(x_1,...,x_n): max1 * max2\n",
    "# g(x_1,...,x_n) = (max2, max1)\n",
    "m2, m1 = -float(\"infinity\"), -float(\"infinity\")\n",
    "for _ in range(n): \n",
    "    _, m2, m1 = sorted((read_int(), m1, m2)) # G(g(x_1,...,x_{n-1}), x_n)\n",
    "\n",
    "print(m2*m1)        # f(x_1,...,x_n) = t(g(x_1,...,x_n)); t(a,b) = a*b"
   ]
  },
  {
   "cell_type": "code",
   "execution_count": 65,
   "id": "129525ba",
   "metadata": {},
   "outputs": [],
   "source": [
    "class InputIterator:\n",
    "    def __init__(self, tests_path=max1_tests_path, test_num = \"01\"):\n",
    "        self.input = create_input(tests_path, test_num)\n",
    "        self.n = int(self.input())\n",
    "        self.cur = 0\n",
    "        \n",
    "    def __iter__(self):        \n",
    "        return self\n",
    "    \n",
    "    def __next__(self):\n",
    "        if self.cur < self.n:\n",
    "            self.cur += 1\n",
    "            return(int(self.input()))\n",
    "        raise StopIteration\n",
    "        "
   ]
  },
  {
   "cell_type": "code",
   "execution_count": 66,
   "id": "3966f454",
   "metadata": {},
   "outputs": [
    {
     "name": "stdout",
     "output_type": "stream",
     "text": [
      "1\n",
      "3\n",
      "2\n",
      "7\n",
      "9\n",
      "4\n",
      "6\n",
      "5\n",
      "10\n",
      "8\n"
     ]
    }
   ],
   "source": [
    "for x in InputIterator():\n",
    "    print(x)"
   ]
  },
  {
   "cell_type": "code",
   "execution_count": 67,
   "id": "1ecd3d6b",
   "metadata": {},
   "outputs": [
    {
     "data": {
      "text/plain": [
       "10"
      ]
     },
     "execution_count": 67,
     "metadata": {},
     "output_type": "execute_result"
    }
   ],
   "source": [
    "max(InputIterator())"
   ]
  },
  {
   "cell_type": "code",
   "execution_count": 74,
   "id": "6fa0a215",
   "metadata": {},
   "outputs": [
    {
     "name": "stdout",
     "output_type": "stream",
     "text": [
      "[9, 10]\n",
      "90\n"
     ]
    }
   ],
   "source": [
    "def G(a, x):\n",
    "    return sorted(a+[x])[1:]\n",
    "\n",
    "it = InputIterator()\n",
    "\n",
    "a = [-float(\"infinity\"), -float(\"infinity\")]\n",
    "\n",
    "while True:\n",
    "    try:\n",
    "        a = G(a, next(it)) # G(G(G(....)))\n",
    "    except StopIteration:\n",
    "        break\n",
    "\n",
    "\n",
    "print(a)        \n",
    "print(a[0]*a[1])        \n"
   ]
  },
  {
   "cell_type": "code",
   "execution_count": 75,
   "id": "431f8b8f",
   "metadata": {},
   "outputs": [
    {
     "name": "stdout",
     "output_type": "stream",
     "text": [
      "[9, 10]\n",
      "90\n"
     ]
    }
   ],
   "source": [
    "from functools import reduce\n",
    "\n",
    "a = reduce(G, InputIterator(), [-float(\"infinity\"), -float(\"infinity\")])\n",
    "print(a)        \n",
    "print(a[0]*a[1])"
   ]
  },
  {
   "cell_type": "code",
   "execution_count": 60,
   "id": "f300ea7a",
   "metadata": {},
   "outputs": [
    {
     "name": "stdout",
     "output_type": "stream",
     "text": [
      "входные данные:\n",
      "3\n",
      "2\n",
      "1\n",
      "2\n",
      "\n",
      "\n",
      "выходные данные:\n",
      "\n",
      "1\n",
      "1\n",
      "2\n"
     ]
    }
   ],
   "source": [
    "cont_lis_path, cont_lis_tst = \"../1-HelloWorld/cont_lis/\", \"t4\"\n",
    "print_cf_style_input(cont_lis_path, cont_lis_tst)\n",
    "input = create_input(cont_lis_path, cont_lis_tst)\n",
    "\n",
    "n = read_int()\n",
    "\n",
    "cur = read_int()\n",
    "cur_len = 1\n",
    "max_len = 1\n",
    "print(max_len)\n",
    "\n",
    "for _ in range(n-1):\n",
    "    prev = cur\n",
    "    cur = read_int()\n",
    "    if prev <= cur:\n",
    "        cur_len += 1\n",
    "    else:\n",
    "        cur_len = 1\n",
    "    max_len = max(max_len, cur_len)\n",
    "    print(max_len)\n",
    "\n"
   ]
  },
  {
   "cell_type": "code",
   "execution_count": null,
   "id": "4e52a70f",
   "metadata": {},
   "outputs": [],
   "source": []
  }
 ],
 "metadata": {
  "kernelspec": {
   "display_name": "Python 3 (ipykernel)",
   "language": "python",
   "name": "python3"
  },
  "language_info": {
   "codemirror_mode": {
    "name": "ipython",
    "version": 3
   },
   "file_extension": ".py",
   "mimetype": "text/x-python",
   "name": "python",
   "nbconvert_exporter": "python",
   "pygments_lexer": "ipython3",
   "version": "3.9.12"
  }
 },
 "nbformat": 4,
 "nbformat_minor": 5
}
